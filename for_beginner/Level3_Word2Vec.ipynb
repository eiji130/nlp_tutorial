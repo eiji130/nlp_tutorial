{
 "cells": [
  {
   "cell_type": "code",
   "execution_count": 1,
   "metadata": {},
   "outputs": [],
   "source": [
    "\"\"\"\n",
    "参考リスト\n",
    "https://radimrehurek.com/gensim/models/word2vec.html\n",
    "-> gensimの公式ドキュメントにおけるWord2Vecの使用方法\n",
    "http://m0t0k1ch1st0ry.com/blog/2016/08/28/word2vec/\n",
    "-> 上記を参考に老人と海を題材に使用、mecabのインストールは面倒なので形態素解析部分はJanomeに変更した\n",
    "\"\"\"\n",
    "import codecs\n",
    "from janome.tokenizer import Tokenizer\n",
    "from gensim.models import word2vec"
   ]
  },
  {
   "cell_type": "code",
   "execution_count": 2,
   "metadata": {},
   "outputs": [],
   "source": [
    "# split sentences into words(separated by white-space)\n",
    "text_space = \"\"\n",
    "t = Tokenizer()\n",
    "with codecs.open('files_level3/rojinto_umi.txt', 'r', 'utf-8') as f:\n",
    "    txt = f.read()\n",
    "    for token in t.tokenize(txt, stream=True):\n",
    "        text_space += token.surface\n",
    "        text_space += \" \""
   ]
  },
  {
   "cell_type": "code",
   "execution_count": 3,
   "metadata": {},
   "outputs": [],
   "source": [
    "# write words with white space\n",
    "with codecs.open('files_level3/rojinto_umi_wakachi.txt', 'w', 'utf-8') as file:\n",
    "    file.write(text_space)"
   ]
  },
  {
   "cell_type": "code",
   "execution_count": 4,
   "metadata": {},
   "outputs": [],
   "source": [
    "# make Word2Vec-model\n",
    "sentences = word2vec.LineSentence('files_level3/rojinto_umi_wakachi.txt')\n",
    "model = word2vec.Word2Vec(sentences,\n",
    "                          sg=1,\n",
    "                          size=100,\n",
    "                          min_count=1,\n",
    "                          window=10,\n",
    "                          hs=1,\n",
    "                          negative=0)\n",
    "model.save('files_level3/rojinto.model')"
   ]
  },
  {
   "cell_type": "code",
   "execution_count": 5,
   "metadata": {},
   "outputs": [
    {
     "data": {
      "text/plain": [
       "[('苦しい', 0.9850461483001709),\n",
       " ('泥棒', 0.9832761287689209),\n",
       " ('でかく', 0.9825425744056702),\n",
       " ('子猫', 0.9736003875732422),\n",
       " ('見れ', 0.9695382118225098),\n",
       " ('げに', 0.9667792916297913),\n",
       " ('眠り込ん', 0.9650758504867554),\n",
       " ('友', 0.9636443257331848),\n",
       " ('描く', 0.9625064730644226),\n",
       " ('増える', 0.9620020389556885)]"
      ]
     },
     "execution_count": 5,
     "metadata": {},
     "output_type": "execute_result"
    }
   ],
   "source": [
    "# model-load and calculating similarity(extract similar words)\n",
    "model = word2vec.Word2Vec.load(\"files_level3/rojinto.model\")\n",
    "model.most_similar(positive=\"人生\", topn=10)"
   ]
  },
  {
   "cell_type": "code",
   "execution_count": null,
   "metadata": {
    "collapsed": true
   },
   "outputs": [],
   "source": []
  }
 ],
 "metadata": {
  "kernelspec": {
   "display_name": "Python 3",
   "language": "python",
   "name": "python3"
  },
  "language_info": {
   "codemirror_mode": {
    "name": "ipython",
    "version": 3
   },
   "file_extension": ".py",
   "mimetype": "text/x-python",
   "name": "python",
   "nbconvert_exporter": "python",
   "pygments_lexer": "ipython3",
   "version": "3.6.0"
  }
 },
 "nbformat": 4,
 "nbformat_minor": 2
}
