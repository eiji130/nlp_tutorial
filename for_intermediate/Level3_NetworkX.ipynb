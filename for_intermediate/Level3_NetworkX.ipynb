{
 "cells": [
  {
   "cell_type": "code",
   "execution_count": 1,
   "metadata": {},
   "outputs": [],
   "source": [
    "\"\"\"\n",
    "参考リスト\n",
    "https://networkx.github.io/documentation/stable/\n",
    "-> NetworkXの公式ドキュメント、用法が載っている\n",
    "http://www.jp.undp.org/content/tokyo/ja/home/sustainable-development-goals.html\n",
    "-> Sustainable Development Goals（データ出展）\n",
    "\"\"\"\n",
    "import codecs \n",
    "import pandas as pd\n",
    "import numpy as np\n",
    "import networkx as nx\n",
    "import matplotlib.pyplot as plt\n",
    "\n",
    "from gensim import corpora, matutils\n",
    "from janome.tokenizer import Tokenizer"
   ]
  },
  {
   "cell_type": "code",
   "execution_count": 2,
   "metadata": {},
   "outputs": [],
   "source": [
    "stop_words = ['持続', '可能', '開発', 'ため', 'アジェンダ', '構成', 'グローバル', '目標', '一つ', '複数', '目標',\n",
    "              '達成', 'ため', '包括', 'アプローチ', '必要', '不可欠']\n",
    "#stop_words = []"
   ]
  },
  {
   "cell_type": "code",
   "execution_count": 3,
   "metadata": {},
   "outputs": [],
   "source": [
    "def token_generator(text):\n",
    "    tokenizer = Tokenizer()\n",
    "    for text_line in text.split('\\n'):\n",
    "        for token in tokenizer.tokenize(text_line):\n",
    "            if token.part_of_speech.split(',')[0] == '名詞' and token.surface not in stop_words:\n",
    "                if len(token.surface) > 1 and not(token.surface.isdigit()):\n",
    "                    yield token.surface"
   ]
  },
  {
   "cell_type": "code",
   "execution_count": 4,
   "metadata": {},
   "outputs": [
    {
     "name": "stdout",
     "output_type": "stream",
     "text": [
      "['形態', '貧困', '根絶', '人類', '直面', '重要', '課題', '世界', '極度', '貧困', '半分', '以下', '減少', '多く', '人間', '基本', 'ニーズ', '世界', '以上', 'ドル', 'セント', '未満', '十分', '食料', 'きれい', '衛生', '施設', '利用', '人々', '中国', 'インド', '国々', '経済', '成長', '貧困', '進捗', '男女', '一様', '女性', '雇用', '教育', '資産', 'アクセス', '平等', '貧困', '状態', '確率', '男性', '世界', '極度', '貧困', '人々', 'アジア', 'サハラ', '以南', 'アフリカ', '地域', '進捗', '気候', '変動', '紛争', '食料', '不安', '新た', '脅威', '割合', '今後', '上昇', 'SDGs', 'たち', '開始', '取り組み', '完了', '形態', '貧困', '終止符', '大胆', 'コミットメント', '脆弱', '状況', '人々', '対象', '基本', '資源', 'サービス', 'アクセス', '改善', '紛争', '気候', '変動', '関連', '災害', '被災', 'コミュニティ', '支援', 'こと', '貧困', '解消']\n"
     ]
    }
   ],
   "source": [
    "# データの読み込み\n",
    "# split sentences into words(separated by white-space)\n",
    "text_processed = []\n",
    "t = Tokenizer()\n",
    "for i in range(17):\n",
    "    file_path = \"./files_level1/data/SDGs\"+str(i+1)+\".txt\"\n",
    "    with codecs.open(file_path, \"r\", \"utf-8\") as f:\n",
    "        txt = f.read()\n",
    "        text_processed.append(list(token_generator(txt)))\n",
    "\n",
    "print(text_processed[0])"
   ]
  },
  {
   "cell_type": "code",
   "execution_count": 5,
   "metadata": {},
   "outputs": [],
   "source": [
    "# 辞書の作成\n",
    "dictionary = corpora.Dictionary(text_processed)"
   ]
  },
  {
   "cell_type": "code",
   "execution_count": 6,
   "metadata": {},
   "outputs": [],
   "source": [
    "#BoW matrixの作成\n",
    "corpus = [dictionary.doc2bow(doc) for doc in text_processed]\n",
    "doc_matrix = matutils.corpus2csc(corpus).transpose()"
   ]
  },
  {
   "cell_type": "code",
   "execution_count": 7,
   "metadata": {},
   "outputs": [
    {
     "name": "stdout",
     "output_type": "stream",
     "text": [
      "[[ 1.          0.22439704  0.1339179   0.23424391  0.20888534  0.23048861]\n",
      " [ 0.22439704  1.          0.16157535  0.19915099  0.24427604  0.17440789]\n",
      " [ 0.1339179   0.16157535  1.          0.28441636  0.17725017  0.16667937]\n",
      " [ 0.23424391  0.19915099  0.28441636  1.          0.27963377  0.12372835]\n",
      " [ 0.20888534  0.24427604  0.17725017  0.27963377  1.          0.10942203]\n",
      " [ 0.23048861  0.17440789  0.16667937  0.12372835  0.10942203  1.        ]]\n"
     ]
    }
   ],
   "source": [
    "# cos_similarityの作成\n",
    "cos_sim = np.zeros([17, 17])\n",
    "var_SDGs = doc_matrix.dot(doc_matrix.transpose()).toarray()\n",
    "for i in range(17):\n",
    "    for j in range(17):\n",
    "        cos_sim[i,j] = var_SDGs[i,j]/(np.sqrt(var_SDGs[i, i])*np.sqrt(var_SDGs[j, j]))\n",
    "print(cos_sim[:6,:6])"
   ]
  },
  {
   "cell_type": "code",
   "execution_count": 8,
   "metadata": {},
   "outputs": [],
   "source": [
    "G=nx.Graph()"
   ]
  },
  {
   "cell_type": "code",
   "execution_count": 9,
   "metadata": {},
   "outputs": [],
   "source": [
    "for i in range(17):\n",
    "    for j in range(17):\n",
    "        if i != j and cos_sim[i,j]>0.3:\n",
    "            G.add_edge(str(i),str(j),weight=cos_sim[i,j])"
   ]
  },
  {
   "cell_type": "code",
   "execution_count": 10,
   "metadata": {},
   "outputs": [
    {
     "data": {
      "image/png": "[encoded data removed]",
      "text/plain": [
       "<matplotlib.figure.Figure at 0x111123710>"
      ]
     },
     "metadata": {},
     "output_type": "display_data"
    }
   ],
   "source": [
    "nx.draw(G, with_labels=True, font_weight='bold')\n",
    "plt.show()"
   ]
  },
  {
   "cell_type": "code",
   "execution_count": null,
   "metadata": {},
   "outputs": [],
   "source": []
  }
 ],
 "metadata": {
  "kernelspec": {
   "display_name": "Python 3",
   "language": "python",
   "name": "python3"
  },
  "language_info": {
   "codemirror_mode": {
    "name": "ipython",
    "version": 3
   },
   "file_extension": ".py",
   "mimetype": "text/x-python",
   "name": "python",
   "nbconvert_exporter": "python",
   "pygments_lexer": "ipython3",
   "version": "3.6.0"
  }
 },
 "nbformat": 4,
 "nbformat_minor": 2
}
