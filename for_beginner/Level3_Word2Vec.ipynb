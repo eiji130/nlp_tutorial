{
 "cells": [
  {
   "cell_type": "code",
   "execution_count": 1,
   "metadata": {},
   "outputs": [
    {
     "name": "stderr",
     "output_type": "stream",
     "text": [
      "Using TensorFlow backend.\n"
     ]
    }
   ],
   "source": [
    "\"\"\"\n",
    "参考リスト\n",
    "https://radimrehurek.com/gensim/models/word2vec.html\n",
    "-> gensimの公式ドキュメントにおけるWord2Vecの使用方法\n",
    "http://m0t0k1ch1st0ry.com/blog/2016/08/28/word2vec/\n",
    "-> 上記を参考に老人と海を題材に使用、mecabのインストールは面倒なので形態素解析部分はJanomeに変更した\n",
    "\"\"\"\n",
    "from janome.tokenizer import Tokenizer\n",
    "from gensim.models import word2vec"
   ]
  },
  {
   "cell_type": "code",
   "execution_count": 2,
   "metadata": {
    "collapsed": true
   },
   "outputs": [],
   "source": [
    "# split sentences into words(separated by white-space)\n",
    "text_space = \"\"\n",
    "t = Tokenizer()\n",
    "with open('files_level3/rojinto_umi.txt') as f:\n",
    "    txt = f.read()\n",
    "    for token in t.tokenize(txt, stream=True):\n",
    "        text_space += token.surface\n",
    "        text_space += \" \""
   ]
  },
  {
   "cell_type": "code",
   "execution_count": 4,
   "metadata": {},
   "outputs": [],
   "source": [
    "# write words with white space\n",
    "with open('files_level3/rojinto_umi_wakachi.txt', 'w') as file:\n",
    "    file.write(text_space)"
   ]
  },
  {
   "cell_type": "code",
   "execution_count": 5,
   "metadata": {
    "collapsed": true
   },
   "outputs": [],
   "source": [
    "# make Word2Vec-model\n",
    "sentences = word2vec.LineSentence('files_level3/rojinto_umi_wakachi.txt')\n",
    "model = word2vec.Word2Vec(sentences,\n",
    "                          sg=1,\n",
    "                          size=100,\n",
    "                          min_count=1,\n",
    "                          window=10,\n",
    "                          hs=1,\n",
    "                          negative=0)\n",
    "model.save('files_level3/rojinto.model')"
   ]
  },
  {
   "cell_type": "code",
   "execution_count": 6,
   "metadata": {},
   "outputs": [
    {
     "data": {
      "text/plain": [
       "[('泥棒', 0.987433910369873),\n",
       " ('苦しい', 0.9858682155609131),\n",
       " ('でかく', 0.980807900428772),\n",
       " ('おら', 0.9574810266494751),\n",
       " ('ウミツバメ', 0.9491049647331238),\n",
       " ('果て', 0.9481734037399292),\n",
       " ('どれ', 0.9385677576065063),\n",
       " ('待つ', 0.9354450106620789),\n",
       " ('潜る', 0.9348762035369873),\n",
       " ('ガタガタ', 0.9345372319221497)]"
      ]
     },
     "execution_count": 6,
     "metadata": {},
     "output_type": "execute_result"
    }
   ],
   "source": [
    "# model-load and calculating similarity(extract similar words)\n",
    "model = word2vec.Word2Vec.load(\"files_level3/rojinto.model\")\n",
    "model.most_similar(positive=\"人生\", topn=10)"
   ]
  },
  {
   "cell_type": "code",
   "execution_count": null,
   "metadata": {
    "collapsed": true
   },
   "outputs": [],
   "source": []
  }
 ],
 "metadata": {
  "kernelspec": {
   "display_name": "Python 3",
   "language": "python",
   "name": "python3"
  },
  "language_info": {
   "codemirror_mode": {
    "name": "ipython",
    "version": 3
   },
   "file_extension": ".py",
   "mimetype": "text/x-python",
   "name": "python",
   "nbconvert_exporter": "python",
   "pygments_lexer": "ipython3",
   "version": "3.5.2"
  }
 },
 "nbformat": 4,
 "nbformat_minor": 2
}
